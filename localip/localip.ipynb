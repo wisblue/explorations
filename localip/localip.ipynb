{
 "cells": [
  {
   "cell_type": "code",
   "execution_count": 3,
   "metadata": {},
   "outputs": [
    {
     "name": "stdout",
     "output_type": "stream",
     "text": [
      "192.168.1.13\n"
     ]
    }
   ],
   "source": [
    "import netifaces as ni\n",
    "ip = ni.ifaddresses('enp7s0')[ni.AF_INET][0]['addr']\n",
    "print(ip)  # should print \"192.168.100.37\""
   ]
  },
  {
   "cell_type": "code",
   "execution_count": 4,
   "metadata": {},
   "outputs": [
    {
     "data": {
      "text/plain": [
       "'172.16.0.2'"
      ]
     },
     "execution_count": 4,
     "metadata": {},
     "output_type": "execute_result"
    }
   ],
   "source": [
    "import socket\n",
    "def get_ip_address():\n",
    "    s = socket.socket(socket.AF_INET, socket.SOCK_DGRAM)\n",
    "    s.connect((\"8.8.8.8\", 80))\n",
    "    return s.getsockname()[0]\n",
    "\n",
    "get_ip_address()"
   ]
  },
  {
   "cell_type": "code",
   "execution_count": 8,
   "metadata": {},
   "outputs": [
    {
     "name": "stdout",
     "output_type": "stream",
     "text": [
      "Your IP address is: []\n"
     ]
    }
   ],
   "source": [
    "from socket import getaddrinfo, gethostname\n",
    "import ipaddress\n",
    "\n",
    "def get_ip(ip_addr_proto=\"ipv4\", ignore_local_ips=True):\n",
    "    # By default, this method only returns non-local IPv4 addresses\n",
    "    # To return IPv6 only, call get_ip('ipv6')\n",
    "    # To return both IPv4 and IPv6, call get_ip('both')\n",
    "    # To return local IPs, call get_ip(None, False)\n",
    "    # Can combine options like so get_ip('both', False)\n",
    "\n",
    "    af_inet = 2\n",
    "    if ip_addr_proto == \"ipv6\":\n",
    "        af_inet = 30\n",
    "    elif ip_addr_proto == \"both\":\n",
    "        af_inet = 0\n",
    "\n",
    "    system_ip_list = getaddrinfo(gethostname(), None, af_inet, 1, 0)\n",
    "    ip_list = []\n",
    "\n",
    "    for ip in system_ip_list:\n",
    "        ip = ip[4][0]\n",
    "\n",
    "        try:\n",
    "            ipaddress.ip_address(str(ip))\n",
    "            ip_address_valid = True\n",
    "        except ValueError:\n",
    "            ip_address_valid = False\n",
    "        else:\n",
    "            if ipaddress.ip_address(ip).is_loopback and ignore_local_ips or ipaddress.ip_address(ip).is_link_local and ignore_local_ips:\n",
    "                pass\n",
    "            elif ip_address_valid:\n",
    "                ip_list.append(ip)\n",
    "\n",
    "    return ip_list\n",
    "\n",
    "print(f\"Your IP address is: {get_ip()}\")"
   ]
  },
  {
   "cell_type": "code",
   "execution_count": 9,
   "metadata": {},
   "outputs": [
    {
     "data": {
      "text/plain": [
       "'172.16.0.2'"
      ]
     },
     "execution_count": 9,
     "metadata": {},
     "output_type": "execute_result"
    }
   ],
   "source": [
    "import socket\n",
    "\n",
    "def get_my_ip_address(remote_server=\"google.com\"):\n",
    "    \"\"\"\n",
    "    Return the/a network-facing IP number for this system.\n",
    "    \"\"\"\n",
    "    with socket.socket(socket.AF_INET, socket.SOCK_DGRAM) as s:\n",
    "        s.connect((remote_server, 80))\n",
    "        return s.getsockname()[0]\n",
    "    \n",
    "\n",
    "get_my_ip_address(remote_server=\"google.com\")"
   ]
  },
  {
   "cell_type": "code",
   "execution_count": 10,
   "metadata": {},
   "outputs": [
    {
     "name": "stdout",
     "output_type": "stream",
     "text": [
      "Network information for enp7s0:\n",
      "IP address: 192.168.1.13\n",
      "Subnet Mask: 255.255.255.0\n",
      "Gateway: 192.168.1.1\n",
      "\n",
      "wlp5s0 is not connected or DHCP is not available. Try setting a static IP address.\n",
      "Network information for virbr0:\n",
      "IP address: 192.168.122.1\n",
      "Subnet Mask: 255.255.255.0\n",
      "Gateway: 192.168.1.1\n",
      "\n",
      "virbr0-nic is not connected or DHCP is not available. Try setting a static IP address.\n",
      "Network information for CloudflareWARP:\n",
      "IP address: 172.16.0.2\n",
      "Subnet Mask: 255.255.255.255\n",
      "Gateway: 192.168.1.1\n",
      "\n",
      "Network information for docker0:\n",
      "IP address: 172.17.0.1\n",
      "Subnet Mask: 255.255.0.0\n",
      "Gateway: 192.168.1.1\n",
      "\n",
      "Network information for br-4cd9a4f278bf:\n",
      "IP address: 172.22.0.1\n",
      "Subnet Mask: 255.255.0.0\n",
      "Gateway: 192.168.1.1\n",
      "\n",
      "Network information for br-8fcdc0016433:\n",
      "IP address: 172.18.0.1\n",
      "Subnet Mask: 255.255.0.0\n",
      "Gateway: 192.168.1.1\n",
      "\n",
      "vethc02b657 is not connected or DHCP is not available. Try setting a static IP address.\n",
      "vethf5d5d08 is not connected or DHCP is not available. Try setting a static IP address.\n",
      "vethb6c28d1 is not connected or DHCP is not available. Try setting a static IP address.\n"
     ]
    }
   ],
   "source": [
    "import netifaces as ni\n",
    "\n",
    "def test_network():\n",
    "    interfaces = ni.interfaces()\n",
    "\n",
    "    for i in interfaces: #Will cycle through all available interfaces and check each one.\n",
    "        if i != \"lo\": #This will remove lo from the interfaces it checks.\n",
    "            try:\n",
    "                ni.ifaddresses(i)\n",
    "                gws = ni.gateways()\n",
    "                gateway = gws['default'][ni.AF_INET][0]\n",
    "                ip = ni.ifaddresses(i)[ni.AF_INET][0]['addr']\n",
    "                sm = ni.ifaddresses(i)[ni.AF_INET][0]['netmask']\n",
    "                print (\"Network information for \" + i + \":\")\n",
    "                print (\"IP address: \" + ip)\n",
    "                print (\"Subnet Mask: \" + sm)\n",
    "                print (\"Gateway: \" + gateway)\n",
    "                print ()\n",
    "            except: #Error case for a disconnected Wi-Fi or trying to test a network with no DHCP\n",
    "                print (i + \" is not connected or DHCP is not available. Try setting a static IP address.\")\n",
    "test_network()"
   ]
  },
  {
   "cell_type": "code",
   "execution_count": null,
   "metadata": {},
   "outputs": [],
   "source": [
    "# ref: https://manpages.ubuntu.com/manpages/focal/man7/systemd.net-naming-scheme.7.html\n",
    "nic_naming_prefix = {\n",
    "    'en':'ethernet',\n",
    "    'ib':'infiniBand',\n",
    "    'sl':'slip', # serial line IP\n",
    "    'wl':'wireless local area network',\n",
    "    'ww':'wireless wide area network',\n",
    "    'br': 'bridge',\n",
    "    'docker': 'docker',\n",
    "    'lo': 'loopback',\n",
    "    'veth': 'virtual ethernet devices',\n",
    "    'virbr': 'virtual bridges',\n",
    "}"
   ]
  },
  {
   "cell_type": "code",
   "execution_count": 16,
   "metadata": {},
   "outputs": [
    {
     "data": {
      "text/plain": [
       "'192.168.1.13'"
      ]
     },
     "execution_count": 16,
     "metadata": {},
     "output_type": "execute_result"
    }
   ],
   "source": [
    "import netifaces as ni\n",
    "\n",
    "def get_ip(nic_prefix='en'):\n",
    "    interfaces = ni.interfaces()\n",
    "\n",
    "    for i in interfaces: #Will cycle through all available interfaces and check each one.\n",
    "        if i.startswith(nic_prefix): # this is the ethernet\n",
    "            try:\n",
    "                ni.ifaddresses(i)\n",
    "                ip = ni.ifaddresses(i)[ni.AF_INET][0]['addr']\n",
    "                return ip\n",
    "            except: #Error case for a disconnected Wi-Fi or trying to test a network with no DHCP\n",
    "                return None\n",
    "get_ip()"
   ]
  },
  {
   "cell_type": "code",
   "execution_count": 17,
   "metadata": {},
   "outputs": [
    {
     "data": {
      "text/plain": [
       "['http://localhost:5173', 'http://192.168.1.13:5173']"
      ]
     },
     "execution_count": 17,
     "metadata": {},
     "output_type": "execute_result"
    }
   ],
   "source": [
    "origins_allowed = [\n",
    "    \"http://localhost:5173\",\n",
    "    #\"http://192.168.1.13:5173\",\n",
    "]\n",
    "origins_allowed.append(f'http://{get_ip()}:5173')\n",
    "origins_allowed"
   ]
  }
 ],
 "metadata": {
  "kernelspec": {
   "display_name": "dnb",
   "language": "python",
   "name": "python3"
  },
  "language_info": {
   "codemirror_mode": {
    "name": "ipython",
    "version": 3
   },
   "file_extension": ".py",
   "mimetype": "text/x-python",
   "name": "python",
   "nbconvert_exporter": "python",
   "pygments_lexer": "ipython3",
   "version": "3.10.13"
  }
 },
 "nbformat": 4,
 "nbformat_minor": 2
}
