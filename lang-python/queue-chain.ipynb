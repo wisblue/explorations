{
 "cells": [
  {
   "cell_type": "code",
   "execution_count": 9,
   "metadata": {},
   "outputs": [
    {
     "name": "stdout",
     "output_type": "stream",
     "text": [
      "deque([2, 3], maxlen=2)\n"
     ]
    }
   ],
   "source": [
    "from collections import deque\n",
    "\n",
    "q = deque(maxlen =2)\n",
    "\n",
    "q.append(1)\n",
    "q.append(2)\n",
    "q.append(3)\n",
    "\n",
    "print(q)\n"
   ]
  },
  {
   "cell_type": "markdown",
   "metadata": {},
   "source": [
    "## Circular Linked List"
   ]
  },
  {
   "cell_type": "code",
   "execution_count": 21,
   "metadata": {},
   "outputs": [],
   "source": [
    "class Node:\n",
    "   def __init__(self, my_data):\n",
    "      self.data = my_data\n",
    "      self.next = None\n",
    "\n",
    "class CircularLinkedList:  \n",
    "   def __init__(self):\n",
    "      self.head = None\n",
    "\n",
    "   def append(self, my_data):\n",
    "      ptr_1 = Node(my_data)\n",
    "      temp = self.head    \n",
    "      ptr_1.next = self.head\n",
    "\n",
    "      if self.head is not None:\n",
    "         while(temp.next != self.head):\n",
    "            temp = temp.next\n",
    "         temp.next = ptr_1\n",
    "      else:\n",
    "         ptr_1.next = ptr_1\n",
    "      self.head = ptr_1\n",
    "\n",
    "   def traverse(self, func):\n",
    "      temp = self.head\n",
    "      if self.head is not None:\n",
    "         while(True):\n",
    "            func(temp.data)\n",
    "            temp = temp.next\n",
    "            if (temp == self.head):\n",
    "               break\n",
    "\n",
    "   def print(self):\n",
    "      self.traverse(lambda a: print(\"%d\" %(a)))\n"
   ]
  },
  {
   "cell_type": "code",
   "execution_count": 22,
   "metadata": {},
   "outputs": [
    {
     "name": "stdout",
     "output_type": "stream",
     "text": [
      "Elements are added to the list \n",
      "The data is : \n",
      "12\n",
      "78\n",
      "56\n"
     ]
    }
   ],
   "source": [
    "my_list = CircularLinkedList()\n",
    "print(\"Elements are added to the list \")\n",
    "my_list.append (56)\n",
    "my_list.append (78)\n",
    "my_list.append (12)\n",
    "print(\"The data is : \")\n",
    "my_list.print()\n"
   ]
  },
  {
   "cell_type": "code",
   "execution_count": 47,
   "metadata": {},
   "outputs": [],
   "source": [
    "l = CircularLinkedList()\n",
    "for i in range(12):\n",
    "    q = deque(maxlen =6)\n",
    "    l.append(q)"
   ]
  },
  {
   "cell_type": "code",
   "execution_count": 51,
   "metadata": {},
   "outputs": [],
   "source": [
    "def make_inc():\n",
    "    val = [0,1]\n",
    "    def inc():\n",
    "        val[0] += 1\n",
    "        val[1] += 1\n",
    "        return val\n",
    "    return inc"
   ]
  },
  {
   "cell_type": "code",
   "execution_count": 44,
   "metadata": {},
   "outputs": [
    {
     "name": "stdout",
     "output_type": "stream",
     "text": [
      "[1, 2]\n",
      "[2, 3]\n",
      "[3, 4]\n"
     ]
    }
   ],
   "source": [
    "inc = make_inc()\n",
    "print(inc())\n",
    "print(inc())\n",
    "print(inc())"
   ]
  },
  {
   "cell_type": "code",
   "execution_count": 52,
   "metadata": {},
   "outputs": [],
   "source": [
    "inc = make_inc()\n",
    "l.traverse(lambda q: q.append(inc()))"
   ]
  },
  {
   "cell_type": "code",
   "execution_count": 53,
   "metadata": {},
   "outputs": [
    {
     "name": "stdout",
     "output_type": "stream",
     "text": [
      "deque([[12, 13], [12, 13]], maxlen=6)\n",
      "deque([[12, 13], [12, 13]], maxlen=6)\n",
      "deque([[12, 13], [12, 13]], maxlen=6)\n",
      "deque([[12, 13], [12, 13]], maxlen=6)\n",
      "deque([[12, 13], [12, 13]], maxlen=6)\n",
      "deque([[12, 13], [12, 13]], maxlen=6)\n",
      "deque([[12, 13], [12, 13]], maxlen=6)\n",
      "deque([[12, 13], [12, 13]], maxlen=6)\n",
      "deque([[12, 13], [12, 13]], maxlen=6)\n",
      "deque([[12, 13], [12, 13]], maxlen=6)\n",
      "deque([[12, 13], [12, 13]], maxlen=6)\n",
      "deque([[12, 13], [12, 13]], maxlen=6)\n"
     ]
    }
   ],
   "source": [
    "l.traverse(lambda q: print(q))"
   ]
  }
 ],
 "metadata": {
  "kernelspec": {
   "display_name": "dnb",
   "language": "python",
   "name": "python3"
  },
  "language_info": {
   "codemirror_mode": {
    "name": "ipython",
    "version": 3
   },
   "file_extension": ".py",
   "mimetype": "text/x-python",
   "name": "python",
   "nbconvert_exporter": "python",
   "pygments_lexer": "ipython3",
   "version": "3.10.13"
  }
 },
 "nbformat": 4,
 "nbformat_minor": 2
}
