{
 "cells": [
  {
   "cell_type": "code",
   "execution_count": 20,
   "metadata": {},
   "outputs": [
    {
     "name": "stdout",
     "output_type": "stream",
     "text": [
      "True\n",
      "True\n",
      "True\n"
     ]
    }
   ],
   "source": [
    "#@save\n",
    "from argparse import ArgumentParser\n",
    "import sys\n",
    "def in_notebook():\n",
    "    return 'ipykernel' in sys.modules\n",
    "\n",
    "parser = ArgumentParser() \n",
    "parser.add_argument(\"--verbosity\", help=\"increase output verbosity\", default=True)\n",
    "if in_notebook():\n",
    "    args = parser.parse_args(args=[])\n",
    "else:\n",
    "    args = parser.parse_args()\n",
    "print(args.verbosity)\n",
    "print('ipykernel' in sys.modules)\n",
    "print('IPython' in sys.modules)"
   ]
  },
  {
   "cell_type": "code",
   "execution_count": 24,
   "metadata": {},
   "outputs": [
    {
     "name": "stdout",
     "output_type": "stream",
     "text": [
      "script save at  /home/dennis/github/dnb/Eleanor/explorations/lang-python/args.py\n"
     ]
    }
   ],
   "source": [
    "# save this ipynb as .py\n",
    "from save_nb import *\n",
    "save_nb(globals())"
   ]
  }
 ],
 "metadata": {
  "kernelspec": {
   "display_name": "dnb",
   "language": "python",
   "name": "python3"
  },
  "language_info": {
   "codemirror_mode": {
    "name": "ipython",
    "version": 3
   },
   "file_extension": ".py",
   "mimetype": "text/x-python",
   "name": "python",
   "nbconvert_exporter": "python",
   "pygments_lexer": "ipython3",
   "version": "3.10.13"
  }
 },
 "nbformat": 4,
 "nbformat_minor": 2
}
