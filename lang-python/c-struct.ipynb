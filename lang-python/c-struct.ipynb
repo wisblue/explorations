{
 "cells": [
  {
   "cell_type": "markdown",
   "metadata": {},
   "source": [
    "ref: https://iotexpert.com/stupid-python-tricks-c-structures-using-the-ctypes-module-part-2/"
   ]
  },
  {
   "cell_type": "markdown",
   "metadata": {},
   "source": [
    "## cstruct for stream data"
   ]
  },
  {
   "cell_type": "code",
   "execution_count": 4,
   "metadata": {},
   "outputs": [],
   "source": [
    "from ctypes import *"
   ]
  },
  {
   "cell_type": "code",
   "execution_count": 5,
   "metadata": {},
   "outputs": [
    {
     "name": "stdout",
     "output_type": "stream",
     "text": [
      "8\n",
      "1\n"
     ]
    }
   ],
   "source": [
    "class Header(Structure):\n",
    "    _pack_ = 1\n",
    "    _fields_ = [(\"version\", c_ubyte),\n",
    "                (\"type\", c_ubyte),\n",
    "                (\"frame\", c_uint16),\n",
    "                (\"length\", c_uint32)]\n",
    "    def __init__(self):\n",
    "        self.version = 1\n",
    "\n",
    "print(sizeof(Header))\n",
    "\n",
    "header = Header()\n",
    "print(header.version)\n",
    "header.type = 1\n",
    "header.frame = 1\n",
    "header.length = 10"
   ]
  },
  {
   "cell_type": "code",
   "execution_count": 6,
   "metadata": {},
   "outputs": [
    {
     "name": "stdout",
     "output_type": "stream",
     "text": [
      "8\n"
     ]
    }
   ],
   "source": [
    "byts = bytearray(header)\n",
    "print(len(byts))"
   ]
  },
  {
   "cell_type": "code",
   "execution_count": 7,
   "metadata": {},
   "outputs": [
    {
     "data": {
      "text/plain": [
       "10"
      ]
     },
     "execution_count": 7,
     "metadata": {},
     "output_type": "execute_result"
    }
   ],
   "source": [
    "# ref: https://stackoverflow.com/questions/29194209/python-convert-bytearray-to-ctypes-struct\n",
    "header = Header.from_buffer_copy(byts)\n",
    "header.length"
   ]
  },
  {
   "cell_type": "code",
   "execution_count": 2,
   "metadata": {},
   "outputs": [
    {
     "data": {
      "text/plain": [
       "bytearray(b'adaada')"
      ]
     },
     "execution_count": 2,
     "metadata": {},
     "output_type": "execute_result"
    }
   ],
   "source": [
    "bytearray(b'ada') + bytearray(b'ada')"
   ]
  },
  {
   "cell_type": "code",
   "execution_count": 2,
   "metadata": {},
   "outputs": [
    {
     "name": "stdout",
     "output_type": "stream",
     "text": [
      "1\n"
     ]
    }
   ],
   "source": [
    "term = 1\n",
    "\n",
    "match term:\n",
    "    case 1:\n",
    "         print(1)\n",
    "    case _:\n",
    "        print('Hello')"
   ]
  },
  {
   "cell_type": "markdown",
   "metadata": {},
   "source": [
    "## Failed below"
   ]
  },
  {
   "cell_type": "code",
   "execution_count": 5,
   "metadata": {},
   "outputs": [
    {
     "ename": "TypeError",
     "evalue": "cannot convert 'Header' object to bytearray",
     "output_type": "error",
     "traceback": [
      "\u001b[0;31m---------------------------------------------------------------------------\u001b[0m",
      "\u001b[0;31mTypeError\u001b[0m                                 Traceback (most recent call last)",
      "Cell \u001b[0;32mIn[5], line 13\u001b[0m\n\u001b[1;32m      9\u001b[0m     length: np\u001b[38;5;241m.\u001b[39muint32\n\u001b[1;32m     11\u001b[0m header \u001b[38;5;241m=\u001b[39m Header(\u001b[38;5;241m1\u001b[39m, \u001b[38;5;241m1\u001b[39m, \u001b[38;5;241m1\u001b[39m, \u001b[38;5;241m20\u001b[39m)\n\u001b[0;32m---> 13\u001b[0m byts \u001b[38;5;241m=\u001b[39m \u001b[38;5;28;43mbytearray\u001b[39;49m\u001b[43m(\u001b[49m\u001b[43mheader\u001b[49m\u001b[43m)\u001b[49m\n\u001b[1;32m     14\u001b[0m \u001b[38;5;28mprint\u001b[39m(\u001b[38;5;28mlen\u001b[39m(byts))\n",
      "\u001b[0;31mTypeError\u001b[0m: cannot convert 'Header' object to bytearray"
     ]
    }
   ],
   "source": [
    "from dataclasses import dataclass\n",
    "import numpy as np \n",
    "import pickle\n",
    "\n",
    "@dataclass\n",
    "class Header:\n",
    "    vserion: np.uint8\n",
    "    type: np.uint8\n",
    "    frame: np.uint16\n",
    "    length: np.uint32\n",
    "\n",
    "header = Header(1, 1, 1, 20)\n",
    "\n",
    "byts = bytearray(header)\n",
    "print(len(byts))"
   ]
  },
  {
   "cell_type": "code",
   "execution_count": 7,
   "metadata": {},
   "outputs": [
    {
     "name": "stdout",
     "output_type": "stream",
     "text": [
      "<class 'bytes'> 84\n"
     ]
    }
   ],
   "source": [
    "import pickle\n",
    "\n",
    "arr = pickle.dumps(header)\n",
    "print(type(arr), len(arr))"
   ]
  },
  {
   "cell_type": "code",
   "execution_count": 21,
   "metadata": {},
   "outputs": [
    {
     "name": "stdout",
     "output_type": "stream",
     "text": [
      "\u001b[0;31mSignature:\u001b[0m \u001b[0mpickle\u001b[0m\u001b[0;34m.\u001b[0m\u001b[0mdumps\u001b[0m\u001b[0;34m(\u001b[0m\u001b[0mobj\u001b[0m\u001b[0;34m,\u001b[0m \u001b[0mprotocol\u001b[0m\u001b[0;34m=\u001b[0m\u001b[0;32mNone\u001b[0m\u001b[0;34m,\u001b[0m \u001b[0;34m*\u001b[0m\u001b[0;34m,\u001b[0m \u001b[0mfix_imports\u001b[0m\u001b[0;34m=\u001b[0m\u001b[0;32mTrue\u001b[0m\u001b[0;34m,\u001b[0m \u001b[0mbuffer_callback\u001b[0m\u001b[0;34m=\u001b[0m\u001b[0;32mNone\u001b[0m\u001b[0;34m)\u001b[0m\u001b[0;34m\u001b[0m\u001b[0;34m\u001b[0m\u001b[0m\n",
      "\u001b[0;31mDocstring:\u001b[0m\n",
      "Return the pickled representation of the object as a bytes object.\n",
      "\n",
      "The optional *protocol* argument tells the pickler to use the given\n",
      "protocol; supported protocols are 0, 1, 2, 3, 4 and 5.  The default\n",
      "protocol is 4. It was introduced in Python 3.4, and is incompatible\n",
      "with previous versions.\n",
      "\n",
      "Specifying a negative protocol version selects the highest protocol\n",
      "version supported.  The higher the protocol used, the more recent the\n",
      "version of Python needed to read the pickle produced.\n",
      "\n",
      "If *fix_imports* is True and *protocol* is less than 3, pickle will\n",
      "try to map the new Python 3 names to the old module names used in\n",
      "Python 2, so that the pickle data stream is readable with Python 2.\n",
      "\n",
      "If *buffer_callback* is None (the default), buffer views are serialized\n",
      "into *file* as part of the pickle stream.  It is an error if\n",
      "*buffer_callback* is not None and *protocol* is None or smaller than 5.\n",
      "\u001b[0;31mType:\u001b[0m      builtin_function_or_method"
     ]
    }
   ],
   "source": [
    "pickle.dumps??"
   ]
  },
  {
   "cell_type": "code",
   "execution_count": null,
   "metadata": {},
   "outputs": [],
   "source": []
  }
 ],
 "metadata": {
  "kernelspec": {
   "display_name": "dnb",
   "language": "python",
   "name": "python3"
  },
  "language_info": {
   "codemirror_mode": {
    "name": "ipython",
    "version": 3
   },
   "file_extension": ".py",
   "mimetype": "text/x-python",
   "name": "python",
   "nbconvert_exporter": "python",
   "pygments_lexer": "ipython3",
   "version": "3.10.13"
  }
 },
 "nbformat": 4,
 "nbformat_minor": 2
}
